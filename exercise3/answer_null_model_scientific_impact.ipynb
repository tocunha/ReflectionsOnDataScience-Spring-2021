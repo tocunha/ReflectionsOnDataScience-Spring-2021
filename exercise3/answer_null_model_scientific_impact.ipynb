{
 "cells": [
  {
   "cell_type": "code",
   "execution_count": 1,
   "metadata": {},
   "outputs": [],
   "source": [
    "import pandas as pd\n",
    "import matplotlib.pyplot as plt\n",
    "import seaborn as sns\n",
    "import numpy as np\n",
    "import random\n",
    "from scipy.stats import mannwhitneyu as mannU\n"
   ]
  },
  {
   "cell_type": "markdown",
   "metadata": {},
   "source": [
    "<h1>Quantifying the evolution of individual scientific impact</h1>\n",
    "\n",
    "For this exercise we will reproduce the results of the paper: Quantifying the evolution\n",
    "of individual scientific impact.\n",
    "\n",
    "http://www.robertasinatra.com/pdf/Science_quantifying_aaf5239_Sinatra.pdf\n",
    "\n",
    "The exercise consists of creating a null model for the distribution of the time of the highest impact paper in scientific careers.\n",
    "\n",
    "\n",
    "<b>The dataset describing the scientist's careers is as follow:</b>\n",
    "\n",
    "Careers time: scientist id and a list of time (in days) when his/her papers where published.\n",
    "\n",
    "Careers cities: scientist id and a list of number of citations each paper received. Note that here we are using the number of citations as a proxy to measure the impact of a paper.\n",
    "\n",
    "<h1>Read the time the papers were published</h1>"
   ]
  },
  {
   "cell_type": "code",
   "execution_count": 2,
   "metadata": {},
   "outputs": [
    {
     "data": {
      "text/html": [
       "<div>\n",
       "<style scoped>\n",
       "    .dataframe tbody tr th:only-of-type {\n",
       "        vertical-align: middle;\n",
       "    }\n",
       "\n",
       "    .dataframe tbody tr th {\n",
       "        vertical-align: top;\n",
       "    }\n",
       "\n",
       "    .dataframe thead th {\n",
       "        text-align: right;\n",
       "    }\n",
       "</style>\n",
       "<table border=\"1\" class=\"dataframe\">\n",
       "  <thead>\n",
       "    <tr style=\"text-align: right;\">\n",
       "      <th></th>\n",
       "      <th>id</th>\n",
       "      <th>papers</th>\n",
       "    </tr>\n",
       "  </thead>\n",
       "  <tbody>\n",
       "    <tr>\n",
       "      <td>0</td>\n",
       "      <td>48</td>\n",
       "      <td>[0, 455, 1057, 1330, 1687, 1939, 2065, 2492, 2...</td>\n",
       "    </tr>\n",
       "    <tr>\n",
       "      <td>1</td>\n",
       "      <td>64</td>\n",
       "      <td>[0, 175, 1400, 1492, 2206, 2223, 2407, 2710, 2...</td>\n",
       "    </tr>\n",
       "    <tr>\n",
       "      <td>2</td>\n",
       "      <td>378</td>\n",
       "      <td>[0, 0, 249, 354, 371, 583, 644, 675, 781, 781,...</td>\n",
       "    </tr>\n",
       "    <tr>\n",
       "      <td>3</td>\n",
       "      <td>476</td>\n",
       "      <td>[0, 61, 244, 304, 419, 594, 608, 839, 973, 109...</td>\n",
       "    </tr>\n",
       "    <tr>\n",
       "      <td>4</td>\n",
       "      <td>485</td>\n",
       "      <td>[0, 194, 335, 335, 335, 943, 973, 1218, 1980, ...</td>\n",
       "    </tr>\n",
       "  </tbody>\n",
       "</table>\n",
       "</div>"
      ],
      "text/plain": [
       "    id                                             papers\n",
       "0   48  [0, 455, 1057, 1330, 1687, 1939, 2065, 2492, 2...\n",
       "1   64  [0, 175, 1400, 1492, 2206, 2223, 2407, 2710, 2...\n",
       "2  378  [0, 0, 249, 354, 371, 583, 644, 675, 781, 781,...\n",
       "3  476  [0, 61, 244, 304, 419, 594, 608, 839, 973, 109...\n",
       "4  485  [0, 194, 335, 335, 335, 943, 973, 1218, 1980, ..."
      ]
     },
     "execution_count": 2,
     "metadata": {},
     "output_type": "execute_result"
    }
   ],
   "source": [
    "careers_time = pd.read_csv('./careers_time.txt', sep='; ', header=None, engine='python')\n",
    "careers_time.columns = ['id', 'papers']\n",
    "\n",
    "#split string into a list of ints\n",
    "careers_time['papers'] = careers_time.papers.str.split('\\t')\n",
    "careers_time['papers'] = careers_time['papers'].apply(lambda x: [int(i) - int(x[0]) for i in x])\n",
    "\n",
    "careers_time.head()"
   ]
  },
  {
   "cell_type": "markdown",
   "metadata": {},
   "source": [
    "<h1>Read the number of citations each paper received</h1>"
   ]
  },
  {
   "cell_type": "code",
   "execution_count": 3,
   "metadata": {},
   "outputs": [
    {
     "data": {
      "text/html": [
       "<div>\n",
       "<style scoped>\n",
       "    .dataframe tbody tr th:only-of-type {\n",
       "        vertical-align: middle;\n",
       "    }\n",
       "\n",
       "    .dataframe tbody tr th {\n",
       "        vertical-align: top;\n",
       "    }\n",
       "\n",
       "    .dataframe thead th {\n",
       "        text-align: right;\n",
       "    }\n",
       "</style>\n",
       "<table border=\"1\" class=\"dataframe\">\n",
       "  <thead>\n",
       "    <tr style=\"text-align: right;\">\n",
       "      <th></th>\n",
       "      <th>id</th>\n",
       "      <th>cities</th>\n",
       "    </tr>\n",
       "  </thead>\n",
       "  <tbody>\n",
       "    <tr>\n",
       "      <td>0</td>\n",
       "      <td>48</td>\n",
       "      <td>[4, 6, 24, 3, 3, 2, 3, 1, 2, 21, 0, 16, 3, 1, ...</td>\n",
       "    </tr>\n",
       "    <tr>\n",
       "      <td>1</td>\n",
       "      <td>64</td>\n",
       "      <td>[1, 0, 4, 34, 1, 20, 2, 2, 9, 1, 2, 3, 6, 1, 8...</td>\n",
       "    </tr>\n",
       "    <tr>\n",
       "      <td>2</td>\n",
       "      <td>378</td>\n",
       "      <td>[2, 5, 7, 3, 1, 0, 4, 5, 5, 12, 4, 32, 12, 4, ...</td>\n",
       "    </tr>\n",
       "    <tr>\n",
       "      <td>3</td>\n",
       "      <td>476</td>\n",
       "      <td>[0, 6, 8, 8, 5, 7, 4, 2, 0, 1, 7, 0, 2, 6, 4, ...</td>\n",
       "    </tr>\n",
       "    <tr>\n",
       "      <td>4</td>\n",
       "      <td>485</td>\n",
       "      <td>[13, 6, 16, 16, 11, 6, 14, 2, 0, 6, 21, 32, 41...</td>\n",
       "    </tr>\n",
       "  </tbody>\n",
       "</table>\n",
       "</div>"
      ],
      "text/plain": [
       "    id                                             cities\n",
       "0   48  [4, 6, 24, 3, 3, 2, 3, 1, 2, 21, 0, 16, 3, 1, ...\n",
       "1   64  [1, 0, 4, 34, 1, 20, 2, 2, 9, 1, 2, 3, 6, 1, 8...\n",
       "2  378  [2, 5, 7, 3, 1, 0, 4, 5, 5, 12, 4, 32, 12, 4, ...\n",
       "3  476  [0, 6, 8, 8, 5, 7, 4, 2, 0, 1, 7, 0, 2, 6, 4, ...\n",
       "4  485  [13, 6, 16, 16, 11, 6, 14, 2, 0, 6, 21, 32, 41..."
      ]
     },
     "execution_count": 3,
     "metadata": {},
     "output_type": "execute_result"
    }
   ],
   "source": [
    "careers_cites = pd.read_csv('careers_cites.txt', sep='; ', header=None, engine='python')\n",
    "careers_cites.columns = ['id', 'cities']\n",
    "\n",
    "#split string into a list of ints\n",
    "careers_cites['cities'] = careers_cites.cities.str.split('\\t')\n",
    "careers_cites['cities'] = careers_cites['cities'].apply(lambda x: [int(i) for i in x])\n",
    "\n",
    "careers_cites.head()"
   ]
  },
  {
   "cell_type": "markdown",
   "metadata": {},
   "source": [
    "<h1>Creates the null model by randomizing the citations counts </h1>"
   ]
  },
  {
   "cell_type": "code",
   "execution_count": 4,
   "metadata": {},
   "outputs": [],
   "source": [
    "#set the random seed\n",
    "random.seed(0)\n",
    "\n",
    "#creates the null model\n",
    "careers_cites['randomized_cities'] = careers_cites['cities'].apply(lambda x: random.sample(x, len(x)))\n"
   ]
  },
  {
   "cell_type": "code",
   "execution_count": 5,
   "metadata": {},
   "outputs": [],
   "source": [
    "career = pd.merge(careers_time, careers_cites)\n",
    "\n",
    "career['highest'] = career['cities'].apply(lambda x: x.index(max(x)))\n",
    "career['randomized_highest'] = career['randomized_cities'].apply(lambda x: x.index(max(x)))\n",
    "\n",
    "career['time_highest'] = career.apply(lambda x: x['papers'][x['highest']]/365, axis=1)\n",
    "career['randomized_time_highest'] = career.apply(lambda x: x['papers'][x['randomized_highest']]/365, axis=1)"
   ]
  },
  {
   "cell_type": "code",
   "execution_count": 6,
   "metadata": {},
   "outputs": [
    {
     "data": {
      "text/html": [
       "<div>\n",
       "<style scoped>\n",
       "    .dataframe tbody tr th:only-of-type {\n",
       "        vertical-align: middle;\n",
       "    }\n",
       "\n",
       "    .dataframe tbody tr th {\n",
       "        vertical-align: top;\n",
       "    }\n",
       "\n",
       "    .dataframe thead th {\n",
       "        text-align: right;\n",
       "    }\n",
       "</style>\n",
       "<table border=\"1\" class=\"dataframe\">\n",
       "  <thead>\n",
       "    <tr style=\"text-align: right;\">\n",
       "      <th></th>\n",
       "      <th>id</th>\n",
       "      <th>papers</th>\n",
       "      <th>cities</th>\n",
       "      <th>randomized_cities</th>\n",
       "      <th>highest</th>\n",
       "      <th>randomized_highest</th>\n",
       "      <th>time_highest</th>\n",
       "      <th>randomized_time_highest</th>\n",
       "    </tr>\n",
       "  </thead>\n",
       "  <tbody>\n",
       "    <tr>\n",
       "      <td>0</td>\n",
       "      <td>48</td>\n",
       "      <td>[0, 455, 1057, 1330, 1687, 1939, 2065, 2492, 2...</td>\n",
       "      <td>[4, 6, 24, 3, 3, 2, 3, 1, 2, 21, 0, 16, 3, 1, ...</td>\n",
       "      <td>[3, 1, 6, 2, 1, 6, 3, 21, 1, 2, 19, 3, 7, 24, ...</td>\n",
       "      <td>2</td>\n",
       "      <td>13</td>\n",
       "      <td>2.895890</td>\n",
       "      <td>9.627397</td>\n",
       "    </tr>\n",
       "    <tr>\n",
       "      <td>1</td>\n",
       "      <td>64</td>\n",
       "      <td>[0, 175, 1400, 1492, 2206, 2223, 2407, 2710, 2...</td>\n",
       "      <td>[1, 0, 4, 34, 1, 20, 2, 2, 9, 1, 2, 3, 6, 1, 8...</td>\n",
       "      <td>[34, 3, 4, 31, 0, 2, 6, 0, 12, 3, 1, 0, 2, 20,...</td>\n",
       "      <td>3</td>\n",
       "      <td>0</td>\n",
       "      <td>4.087671</td>\n",
       "      <td>0.000000</td>\n",
       "    </tr>\n",
       "    <tr>\n",
       "      <td>2</td>\n",
       "      <td>378</td>\n",
       "      <td>[0, 0, 249, 354, 371, 583, 644, 675, 781, 781,...</td>\n",
       "      <td>[2, 5, 7, 3, 1, 0, 4, 5, 5, 12, 4, 32, 12, 4, ...</td>\n",
       "      <td>[5, 17, 11, 1, 0, 4, 32, 4, 6, 0, 4, 5, 11, 46...</td>\n",
       "      <td>69</td>\n",
       "      <td>13</td>\n",
       "      <td>27.819178</td>\n",
       "      <td>3.600000</td>\n",
       "    </tr>\n",
       "    <tr>\n",
       "      <td>3</td>\n",
       "      <td>476</td>\n",
       "      <td>[0, 61, 244, 304, 419, 594, 608, 839, 973, 109...</td>\n",
       "      <td>[0, 6, 8, 8, 5, 7, 4, 2, 0, 1, 7, 0, 2, 6, 4, ...</td>\n",
       "      <td>[4, 4, 87, 15, 83, 75, 2, 2, 16, 7, 7, 8, 1, 8...</td>\n",
       "      <td>47</td>\n",
       "      <td>2</td>\n",
       "      <td>22.473973</td>\n",
       "      <td>0.668493</td>\n",
       "    </tr>\n",
       "    <tr>\n",
       "      <td>4</td>\n",
       "      <td>485</td>\n",
       "      <td>[0, 194, 335, 335, 335, 943, 973, 1218, 1980, ...</td>\n",
       "      <td>[13, 6, 16, 16, 11, 6, 14, 2, 0, 6, 21, 32, 41...</td>\n",
       "      <td>[27, 13, 39, 6, 40, 16, 13, 7, 0, 16, 7, 2, 21...</td>\n",
       "      <td>25</td>\n",
       "      <td>40</td>\n",
       "      <td>16.967123</td>\n",
       "      <td>26.019178</td>\n",
       "    </tr>\n",
       "  </tbody>\n",
       "</table>\n",
       "</div>"
      ],
      "text/plain": [
       "    id                                             papers  \\\n",
       "0   48  [0, 455, 1057, 1330, 1687, 1939, 2065, 2492, 2...   \n",
       "1   64  [0, 175, 1400, 1492, 2206, 2223, 2407, 2710, 2...   \n",
       "2  378  [0, 0, 249, 354, 371, 583, 644, 675, 781, 781,...   \n",
       "3  476  [0, 61, 244, 304, 419, 594, 608, 839, 973, 109...   \n",
       "4  485  [0, 194, 335, 335, 335, 943, 973, 1218, 1980, ...   \n",
       "\n",
       "                                              cities  \\\n",
       "0  [4, 6, 24, 3, 3, 2, 3, 1, 2, 21, 0, 16, 3, 1, ...   \n",
       "1  [1, 0, 4, 34, 1, 20, 2, 2, 9, 1, 2, 3, 6, 1, 8...   \n",
       "2  [2, 5, 7, 3, 1, 0, 4, 5, 5, 12, 4, 32, 12, 4, ...   \n",
       "3  [0, 6, 8, 8, 5, 7, 4, 2, 0, 1, 7, 0, 2, 6, 4, ...   \n",
       "4  [13, 6, 16, 16, 11, 6, 14, 2, 0, 6, 21, 32, 41...   \n",
       "\n",
       "                                   randomized_cities  highest  \\\n",
       "0  [3, 1, 6, 2, 1, 6, 3, 21, 1, 2, 19, 3, 7, 24, ...        2   \n",
       "1  [34, 3, 4, 31, 0, 2, 6, 0, 12, 3, 1, 0, 2, 20,...        3   \n",
       "2  [5, 17, 11, 1, 0, 4, 32, 4, 6, 0, 4, 5, 11, 46...       69   \n",
       "3  [4, 4, 87, 15, 83, 75, 2, 2, 16, 7, 7, 8, 1, 8...       47   \n",
       "4  [27, 13, 39, 6, 40, 16, 13, 7, 0, 16, 7, 2, 21...       25   \n",
       "\n",
       "   randomized_highest  time_highest  randomized_time_highest  \n",
       "0                  13      2.895890                 9.627397  \n",
       "1                   0      4.087671                 0.000000  \n",
       "2                  13     27.819178                 3.600000  \n",
       "3                   2     22.473973                 0.668493  \n",
       "4                  40     16.967123                26.019178  "
      ]
     },
     "execution_count": 6,
     "metadata": {},
     "output_type": "execute_result"
    }
   ],
   "source": [
    "career.head()"
   ]
  },
  {
   "cell_type": "markdown",
   "metadata": {},
   "source": [
    "<h1>Plot both distributions: Data and Randomized</h1>"
   ]
  },
  {
   "cell_type": "code",
   "execution_count": 7,
   "metadata": {},
   "outputs": [
    {
     "data": {
      "image/png": "[encoded data removed]",
      "text/plain": [
       "<Figure size 720x504 with 1 Axes>"
      ]
     },
     "metadata": {
      "needs_background": "light"
     },
     "output_type": "display_data"
    }
   ],
   "source": [
    "plt.figure(figsize=(10,7))\n",
    "\n",
    "#Plot the distribution of the actual data\n",
    "sns.distplot(career.time_highest, hist=False, kde=True, \n",
    "             bins=40, color = 'black',\n",
    "             kde_kws={'linestyle': '-.', 'linewidth':3}, label='Data')\n",
    "\n",
    "#Plot the distribution of the randomized data\n",
    "sns.distplot(career.randomized_time_highest, hist=False, kde=True, \n",
    "             bins=40, color = 'red',\n",
    "             kde_kws={'linestyle': '-.', 'linewidth':3}, label='Randomized')\n",
    "\n",
    "#Mann-Whitney U test between the two distributions\n",
    "p = mannU(career.time_highest, career.randomized_time_highest).pvalue\n",
    "\n",
    "\n",
    "plt.xlabel('$t^*$', fontsize = 18)\n",
    "plt.ylabel('$P(t^*)$', fontsize = 18)\n",
    "plt.xlim(0,40)\n",
    "plt.xticks(fontsize=14)\n",
    "plt.yticks(fontsize=14)\n",
    "plt.legend(fontsize=16)\n",
    "plt.text(30, 0.03, \"p-value: {0:.3g}\".format(p), fontsize=16)\n",
    "plt.show()\n",
    "\n"
   ]
  },
  {
   "cell_type": "code",
   "execution_count": null,
   "metadata": {},
   "outputs": [],
   "source": []
  },
  {
   "cell_type": "code",
   "execution_count": null,
   "metadata": {},
   "outputs": [],
   "source": []
  },
  {
   "cell_type": "code",
   "execution_count": null,
   "metadata": {},
   "outputs": [],
   "source": []
  },
  {
   "cell_type": "code",
   "execution_count": null,
   "metadata": {},
   "outputs": [],
   "source": []
  }
 ],
 "metadata": {
  "kernelspec": {
   "display_name": "Python 3",
   "language": "python",
   "name": "python3"
  },
  "language_info": {
   "codemirror_mode": {
    "name": "ipython",
    "version": 3
   },
   "file_extension": ".py",
   "mimetype": "text/x-python",
   "name": "python",
   "nbconvert_exporter": "python",
   "pygments_lexer": "ipython3",
   "version": "3.7.4"
  }
 },
 "nbformat": 4,
 "nbformat_minor": 2
}
