{
 "cells": [
  {
   "cell_type": "code",
   "execution_count": 38,
   "metadata": {},
   "outputs": [],
   "source": [
    "import requests\n",
    "import json"
   ]
  },
  {
   "cell_type": "code",
   "execution_count": 42,
   "metadata": {},
   "outputs": [],
   "source": [
    "BEARER_TOKEN = \"\""
   ]
  },
  {
   "cell_type": "code",
   "execution_count": 35,
   "metadata": {},
   "outputs": [],
   "source": [
    "with open(\"liked_tweet_ids.txt\") as infile:\n",
    "    liked_ids = [x.strip() for x in infile.readlines()]\n",
    "with open(\"nonliked_tweet_ids.txt\") as infile:\n",
    "    nonliked_ids = [x.strip() for x in infile.readlines()]"
   ]
  },
  {
   "cell_type": "code",
   "execution_count": 43,
   "metadata": {},
   "outputs": [],
   "source": [
    "headers = {\"Authorization\": \"Bearer {}\".format(BEARER_TOKEN)}"
   ]
  },
  {
   "cell_type": "code",
   "execution_count": 26,
   "metadata": {},
   "outputs": [],
   "source": [
    "r = requests.get(\"https://api.twitter.com/2/tweets?ids=1366116521756528641&tweet.fields=public_metrics\",headers=headers)"
   ]
  },
  {
   "cell_type": "code",
   "execution_count": 44,
   "metadata": {},
   "outputs": [],
   "source": [
    "liked_tweets_with_metrics = []\n",
    "nonliked_tweets_with_metrics = []\n",
    "for i in range(0,len(liked_ids),100):\n",
    "    r = requests.get(\"https://api.twitter.com/2/tweets?ids={}&tweet.fields=public_metrics\".format(\",\".join(liked_ids[i:i+100])), headers=headers)\n",
    "    liked_tweets_with_metrics += json.loads(r.text)[\"data\"]\n",
    "for i in range(0,len(nonliked_ids),100):\n",
    "    r = requests.get(\"https://api.twitter.com/2/tweets?ids={}&tweet.fields=public_metrics\".format(\",\".join(nonliked_ids[i:i+100])), headers=headers)\n",
    "    nonliked_tweets_with_metrics += json.loads(r.text)[\"data\"]"
   ]
  },
  {
   "cell_type": "code",
   "execution_count": 46,
   "metadata": {},
   "outputs": [],
   "source": [
    "nlikes_liked = [x[\"public_metrics\"][\"like_count\"] for x in liked_tweets_with_metrics]"
   ]
  },
  {
   "cell_type": "code",
   "execution_count": 48,
   "metadata": {},
   "outputs": [],
   "source": [
    "nlikes_nonliked = [x[\"public_metrics\"][\"like_count\"] for x in nonliked_tweets_with_metrics]"
   ]
  }
 ],
 "metadata": {
  "kernelspec": {
   "display_name": "Python 3",
   "language": "python",
   "name": "python3"
  },
  "language_info": {
   "codemirror_mode": {
    "name": "ipython",
    "version": 3
   },
   "file_extension": ".py",
   "mimetype": "text/x-python",
   "name": "python",
   "nbconvert_exporter": "python",
   "pygments_lexer": "ipython3",
   "version": "3.6.10"
  }
 },
 "nbformat": 4,
 "nbformat_minor": 2
}
