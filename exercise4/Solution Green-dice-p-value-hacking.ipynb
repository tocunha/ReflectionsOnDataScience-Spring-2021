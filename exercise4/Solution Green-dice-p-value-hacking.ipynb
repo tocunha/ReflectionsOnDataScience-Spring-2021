{
 "cells": [
  {
   "cell_type": "markdown",
   "metadata": {},
   "source": [
    "Notebook adapted from: https://github.com/jfpuget/p-hacking/blob/master/Green-dice-p-value-hacking.ipynb\n",
    "\n",
    "# P-Hacking\n",
    "\n",
    "It demonstrates how to mislead people about a scientific experiment by hacking p-values following the methodology from this [xkcd comic](http://xkcd.com/882/):\n",
    "\n",
    "<img src=\"http://imgs.xkcd.com/comics/significant.png\"></img>"
   ]
  },
  {
   "cell_type": "markdown",
   "metadata": {},
   "source": [
    "First, some useful imports."
   ]
  },
  {
   "cell_type": "code",
   "execution_count": 2,
   "metadata": {},
   "outputs": [],
   "source": [
    "import numpy as np\n",
    "import pandas as pd\n",
    "from numpy.random import randint, seed"
   ]
  },
  {
   "cell_type": "markdown",
   "metadata": {},
   "source": [
    "## The experiment\n",
    "\n",
    "We are given 20 dice colors, and we roll dice for each color 1,000 times.  We report the number of six.\n",
    "We set the random seed to make sure results are reproducible."
   ]
  },
  {
   "cell_type": "code",
   "execution_count": 16,
   "metadata": {},
   "outputs": [
    {
     "data": {
      "text/html": [
       "<div>\n",
       "<style scoped>\n",
       "    .dataframe tbody tr th:only-of-type {\n",
       "        vertical-align: middle;\n",
       "    }\n",
       "\n",
       "    .dataframe tbody tr th {\n",
       "        vertical-align: top;\n",
       "    }\n",
       "\n",
       "    .dataframe thead th {\n",
       "        text-align: right;\n",
       "    }\n",
       "</style>\n",
       "<table border=\"1\" class=\"dataframe\">\n",
       "  <thead>\n",
       "    <tr style=\"text-align: right;\">\n",
       "      <th></th>\n",
       "      <th>Number of Six</th>\n",
       "    </tr>\n",
       "  </thead>\n",
       "  <tbody>\n",
       "    <tr>\n",
       "      <td>Purple</td>\n",
       "      <td>151.0</td>\n",
       "    </tr>\n",
       "    <tr>\n",
       "      <td>Brown</td>\n",
       "      <td>167.0</td>\n",
       "    </tr>\n",
       "    <tr>\n",
       "      <td>Pink</td>\n",
       "      <td>158.0</td>\n",
       "    </tr>\n",
       "    <tr>\n",
       "      <td>Blue</td>\n",
       "      <td>167.0</td>\n",
       "    </tr>\n",
       "    <tr>\n",
       "      <td>Teal</td>\n",
       "      <td>181.0</td>\n",
       "    </tr>\n",
       "    <tr>\n",
       "      <td>Salmon</td>\n",
       "      <td>162.0</td>\n",
       "    </tr>\n",
       "    <tr>\n",
       "      <td>Red</td>\n",
       "      <td>170.0</td>\n",
       "    </tr>\n",
       "    <tr>\n",
       "      <td>Turquoise</td>\n",
       "      <td>161.0</td>\n",
       "    </tr>\n",
       "    <tr>\n",
       "      <td>Magenta</td>\n",
       "      <td>165.0</td>\n",
       "    </tr>\n",
       "    <tr>\n",
       "      <td>Yellow</td>\n",
       "      <td>180.0</td>\n",
       "    </tr>\n",
       "    <tr>\n",
       "      <td>Grey</td>\n",
       "      <td>172.0</td>\n",
       "    </tr>\n",
       "    <tr>\n",
       "      <td>Tan</td>\n",
       "      <td>164.0</td>\n",
       "    </tr>\n",
       "    <tr>\n",
       "      <td>Cyan</td>\n",
       "      <td>181.0</td>\n",
       "    </tr>\n",
       "    <tr>\n",
       "      <td>Green</td>\n",
       "      <td>188.0</td>\n",
       "    </tr>\n",
       "    <tr>\n",
       "      <td>Mauve</td>\n",
       "      <td>165.0</td>\n",
       "    </tr>\n",
       "    <tr>\n",
       "      <td>Beige</td>\n",
       "      <td>172.0</td>\n",
       "    </tr>\n",
       "    <tr>\n",
       "      <td>Lilac</td>\n",
       "      <td>178.0</td>\n",
       "    </tr>\n",
       "    <tr>\n",
       "      <td>Black</td>\n",
       "      <td>176.0</td>\n",
       "    </tr>\n",
       "    <tr>\n",
       "      <td>Peach</td>\n",
       "      <td>173.0</td>\n",
       "    </tr>\n",
       "    <tr>\n",
       "      <td>Orange</td>\n",
       "      <td>157.0</td>\n",
       "    </tr>\n",
       "  </tbody>\n",
       "</table>\n",
       "</div>"
      ],
      "text/plain": [
       "           Number of Six\n",
       "Purple             151.0\n",
       "Brown              167.0\n",
       "Pink               158.0\n",
       "Blue               167.0\n",
       "Teal               181.0\n",
       "Salmon             162.0\n",
       "Red                170.0\n",
       "Turquoise          161.0\n",
       "Magenta            165.0\n",
       "Yellow             180.0\n",
       "Grey               172.0\n",
       "Tan                164.0\n",
       "Cyan               181.0\n",
       "Green              188.0\n",
       "Mauve              165.0\n",
       "Beige              172.0\n",
       "Lilac              178.0\n",
       "Black              176.0\n",
       "Peach              173.0\n",
       "Orange             157.0"
      ]
     },
     "execution_count": 16,
     "metadata": {},
     "output_type": "execute_result"
    }
   ],
   "source": [
    "dice = ['Purple', 'Brown', 'Pink', 'Blue', 'Teal', \n",
    "        'Salmon', 'Red', 'Turquoise', 'Magenta', 'Yellow', \n",
    "        'Grey', 'Tan', 'Cyan', 'Green', 'Mauve',\n",
    "        'Beige', 'Lilac', 'Black', 'Peach', 'Orange']\n",
    "\n",
    "def dice_experiments(dice, n):\n",
    "    df = pd.DataFrame(index=dice)\n",
    "    for die in dice:         \n",
    "        result = randint(1,6+1,size=n)\n",
    "        #counts how many times 6 was the outcome\n",
    "        df.loc[die,'Number of Six'] = np.sum(result[result==6])//6\n",
    "    return df\n",
    "\n",
    "np.random.seed(75000)\n",
    "df = dice_experiments(dice, 1000)\n",
    "df"
   ]
  },
  {
   "cell_type": "markdown",
   "metadata": {},
   "source": [
    "The green color has 188 times a six, which is rather high. Indeed, average value is 1,000/6 = 167.\n",
    "\n",
    "The probability that green dice have at least 188 six is about 4% as we will see below.  This is the *p-value* for the green color result. If we decided to watch the green color before the experiment, then this low p-value would warrant us a scientific publication.  \n",
    "\n",
    "Let's see how unlikely this result is by running our experiment many times."
   ]
  },
  {
   "cell_type": "code",
   "execution_count": 17,
   "metadata": {},
   "outputs": [
    {
     "data": {
      "text/plain": [
       "0.041"
      ]
     },
     "execution_count": 17,
     "metadata": {},
     "output_type": "execute_result"
    }
   ],
   "source": [
    "def get_fraction_one_color(color, dice, k, n, repeat):\n",
    "    success = 0.0\n",
    "    for experiment in range(repeat):\n",
    "        df = dice_experiments(dice, n)\n",
    "        if df.loc['Green','Number of Six'] >= k:\n",
    "            success += 1\n",
    "    return success/repeat\n",
    "\n",
    "get_fraction_one_color('Green', dice, 188, 1000, 1000)"
   ]
  },
  {
   "cell_type": "markdown",
   "metadata": {},
   "source": [
    "This is about 4.1%, i.e. rather unlikely. There must be a reason why green dice favor six that much!\n",
    "\n",
    "<h1>Do you agree with the analysis?</h1>\n",
    "\n",
    "<h1>Is a low p-value good enough for this scenario?</h1>\n"
   ]
  },
  {
   "cell_type": "markdown",
   "metadata": {},
   "source": [
    "## The Catch\n",
    "\n",
    "We misinterpreted what we did and our conclusion is misleading.  What we did was to run the experiment for 20 colors, then select the color with the highest number of six.  The p-value should be the probability that at least one color gets at least 188 six. \n",
    "\n",
    "Let's evaluate this probability experimentally."
   ]
  },
  {
   "cell_type": "code",
   "execution_count": 18,
   "metadata": {},
   "outputs": [
    {
     "data": {
      "text/plain": [
       "0.556"
      ]
     },
     "execution_count": 18,
     "metadata": {},
     "output_type": "execute_result"
    }
   ],
   "source": [
    "def get_fraction_any_color(dice, k, n, repeat):\n",
    "    success = 0.0\n",
    "    for experiment in range(repeat):\n",
    "        df = dice_experiments(dice, n)\n",
    "        if df['Number of Six'].max() >= k:\n",
    "            success += 1\n",
    "    return success/repeat\n",
    "\n",
    "get_fraction_any_color(dice, 188, 1000, 1000)"
   ]
  },
  {
   "cell_type": "markdown",
   "metadata": {},
   "source": [
    "This probability is about 56%, i.e. very likely.  There is nothing special about our dice afterall.\n",
    "\n",
    "This little code may look contrived, but it is not.  scientists got publications using a similar methodology, see this [blog](https://www.ibm.com/developerworks/community/blogs/jfp/entry/green_dice_are_loaded_welcome_to_p_hacking)  for details."
   ]
  },
  {
   "cell_type": "markdown",
   "metadata": {},
   "source": [
    "## Ultimate p-hacking\n",
    "\n",
    "We wanted to mimick the xkcd comic, hence we looked for a random seed that yields the result we want.  This is really bad p-hacking, as we define first the p-value, then find experiment settings that produce it. "
   ]
  },
  {
   "cell_type": "code",
   "execution_count": 19,
   "metadata": {},
   "outputs": [
    {
     "data": {
      "text/plain": [
       "75000"
      ]
     },
     "execution_count": 19,
     "metadata": {},
     "output_type": "execute_result"
    }
   ],
   "source": [
    "def find_seed(dice, k, n, repeat, rounding):\n",
    "    nseed = 0.0\n",
    "    for seed in range(0,repeat,rounding):\n",
    "        np.random.seed(seed)\n",
    "        df = dice_experiments(dice, n)\n",
    "        m = df['Number of Six'].max()\n",
    "        if m == k and m == df.loc['Green','Number of Six']:\n",
    "            return seed\n",
    "    \n",
    "res = find_seed(dice, 188, 1000, 1000000, 1000)\n",
    "res"
   ]
  },
  {
   "cell_type": "code",
   "execution_count": null,
   "metadata": {},
   "outputs": [],
   "source": []
  }
 ],
 "metadata": {
  "kernelspec": {
   "display_name": "Python 3",
   "language": "python",
   "name": "python3"
  },
  "language_info": {
   "codemirror_mode": {
    "name": "ipython",
    "version": 3
   },
   "file_extension": ".py",
   "mimetype": "text/x-python",
   "name": "python",
   "nbconvert_exporter": "python",
   "pygments_lexer": "ipython3",
   "version": "3.8.3"
  }
 },
 "nbformat": 4,
 "nbformat_minor": 1
}
