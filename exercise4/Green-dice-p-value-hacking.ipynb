{
 "cells": [
  {
   "cell_type": "markdown",
   "metadata": {},
   "source": [
    "# P-Hacking\n",
    "\n",
    "It demonstrates how to mislead people about a scientific experiment by hacking p-values following the methodology from this [xkcd comic](http://xkcd.com/882/):\n",
    "\n",
    "<img src=\"http://imgs.xkcd.com/comics/significant.png\"></img>"
   ]
  },
  {
   "cell_type": "markdown",
   "metadata": {},
   "source": [
    "First, some useful imports."
   ]
  },
  {
   "cell_type": "code",
   "execution_count": 1,
   "metadata": {},
   "outputs": [],
   "source": [
    "import numpy as np\n",
    "import pandas as pd\n",
    "from numpy.random import randint, seed"
   ]
  },
  {
   "cell_type": "markdown",
   "metadata": {},
   "source": [
    "I made a hypothesis that green dice are loaded and that they will yield a six outcome more often than usual dice would.\n",
    "\n",
    "\n",
    "## The experiment\n",
    "\n",
    "We are given 20 dice colors, and we roll dice for each color 1,000 times.  We report the number of six.\n",
    "We set the random seed to make sure results are reproducible."
   ]
  },
  {
   "cell_type": "code",
   "execution_count": 2,
   "metadata": {},
   "outputs": [
    {
     "data": {
      "text/html": [
       "<div>\n",
       "<style scoped>\n",
       "    .dataframe tbody tr th:only-of-type {\n",
       "        vertical-align: middle;\n",
       "    }\n",
       "\n",
       "    .dataframe tbody tr th {\n",
       "        vertical-align: top;\n",
       "    }\n",
       "\n",
       "    .dataframe thead th {\n",
       "        text-align: right;\n",
       "    }\n",
       "</style>\n",
       "<table border=\"1\" class=\"dataframe\">\n",
       "  <thead>\n",
       "    <tr style=\"text-align: right;\">\n",
       "      <th></th>\n",
       "      <th>Number of Six</th>\n",
       "    </tr>\n",
       "  </thead>\n",
       "  <tbody>\n",
       "    <tr>\n",
       "      <th>Purple</th>\n",
       "      <td>151.0</td>\n",
       "    </tr>\n",
       "    <tr>\n",
       "      <th>Brown</th>\n",
       "      <td>167.0</td>\n",
       "    </tr>\n",
       "    <tr>\n",
       "      <th>Pink</th>\n",
       "      <td>158.0</td>\n",
       "    </tr>\n",
       "    <tr>\n",
       "      <th>Blue</th>\n",
       "      <td>167.0</td>\n",
       "    </tr>\n",
       "    <tr>\n",
       "      <th>Teal</th>\n",
       "      <td>181.0</td>\n",
       "    </tr>\n",
       "    <tr>\n",
       "      <th>Salmon</th>\n",
       "      <td>162.0</td>\n",
       "    </tr>\n",
       "    <tr>\n",
       "      <th>Red</th>\n",
       "      <td>170.0</td>\n",
       "    </tr>\n",
       "    <tr>\n",
       "      <th>Turquoise</th>\n",
       "      <td>161.0</td>\n",
       "    </tr>\n",
       "    <tr>\n",
       "      <th>Magenta</th>\n",
       "      <td>165.0</td>\n",
       "    </tr>\n",
       "    <tr>\n",
       "      <th>Yellow</th>\n",
       "      <td>180.0</td>\n",
       "    </tr>\n",
       "    <tr>\n",
       "      <th>Grey</th>\n",
       "      <td>172.0</td>\n",
       "    </tr>\n",
       "    <tr>\n",
       "      <th>Tan</th>\n",
       "      <td>164.0</td>\n",
       "    </tr>\n",
       "    <tr>\n",
       "      <th>Cyan</th>\n",
       "      <td>181.0</td>\n",
       "    </tr>\n",
       "    <tr>\n",
       "      <th>Green</th>\n",
       "      <td>188.0</td>\n",
       "    </tr>\n",
       "    <tr>\n",
       "      <th>Mauve</th>\n",
       "      <td>165.0</td>\n",
       "    </tr>\n",
       "    <tr>\n",
       "      <th>Beige</th>\n",
       "      <td>172.0</td>\n",
       "    </tr>\n",
       "    <tr>\n",
       "      <th>Lilac</th>\n",
       "      <td>178.0</td>\n",
       "    </tr>\n",
       "    <tr>\n",
       "      <th>Black</th>\n",
       "      <td>176.0</td>\n",
       "    </tr>\n",
       "    <tr>\n",
       "      <th>Peach</th>\n",
       "      <td>173.0</td>\n",
       "    </tr>\n",
       "    <tr>\n",
       "      <th>Orange</th>\n",
       "      <td>157.0</td>\n",
       "    </tr>\n",
       "  </tbody>\n",
       "</table>\n",
       "</div>"
      ],
      "text/plain": [
       "           Number of Six\n",
       "Purple             151.0\n",
       "Brown              167.0\n",
       "Pink               158.0\n",
       "Blue               167.0\n",
       "Teal               181.0\n",
       "Salmon             162.0\n",
       "Red                170.0\n",
       "Turquoise          161.0\n",
       "Magenta            165.0\n",
       "Yellow             180.0\n",
       "Grey               172.0\n",
       "Tan                164.0\n",
       "Cyan               181.0\n",
       "Green              188.0\n",
       "Mauve              165.0\n",
       "Beige              172.0\n",
       "Lilac              178.0\n",
       "Black              176.0\n",
       "Peach              173.0\n",
       "Orange             157.0"
      ]
     },
     "execution_count": 2,
     "metadata": {},
     "output_type": "execute_result"
    }
   ],
   "source": [
    "dice = ['Purple', 'Brown', 'Pink', 'Blue', 'Teal', \n",
    "        'Salmon', 'Red', 'Turquoise', 'Magenta', 'Yellow', \n",
    "        'Grey', 'Tan', 'Cyan', 'Green', 'Mauve',\n",
    "        'Beige', 'Lilac', 'Black', 'Peach', 'Orange']\n",
    "\n",
    "def dice_experiments(dice, n):\n",
    "    df = pd.DataFrame(index=dice)\n",
    "    for die in dice:\n",
    "        result = randint(1,6+1,size=n)\n",
    "        df.loc[die,'Number of Six'] = np.sum(result[result==6])//6\n",
    "    return df\n",
    "\n",
    "np.random.seed(75000)\n",
    "df = dice_experiments(dice, 1000)\n",
    "df"
   ]
  },
  {
   "cell_type": "markdown",
   "metadata": {},
   "source": [
    "The green color has 188 times a six, which is rather high. Indeed, average value is 1,000/6 = 167.\n",
    "\n",
    "The probability that green dice have at least 188 six is about 4% as we will see below.  This is the *p-value* for the green color result. If we decided to watch the green color before the experiment, then this low p-value would warrant us a scientific publication.  \n",
    "\n",
    "Let's see how unlikely this result is by running our experiment many times."
   ]
  },
  {
   "cell_type": "code",
   "execution_count": 17,
   "metadata": {},
   "outputs": [
    {
     "data": {
      "text/plain": [
       "0.041"
      ]
     },
     "execution_count": 17,
     "metadata": {},
     "output_type": "execute_result"
    }
   ],
   "source": [
    "def get_fraction_one_color(color, dice, k, n, repeat):\n",
    "    success = 0.0\n",
    "    for experiment in range(repeat):\n",
    "        df = dice_experiments(dice, n)\n",
    "        if df.loc['Green','Number of Six'] >= k:\n",
    "            success += 1\n",
    "    return success/repeat\n",
    "\n",
    "get_fraction_one_color('Green', dice, 188, 1000, 1000)"
   ]
  },
  {
   "cell_type": "markdown",
   "metadata": {},
   "source": [
    "This is about 4.1%, i.e. rather unlikely. There must be a reason why green dice favor six that much!\n",
    "\n",
    "<h1>Do you agree with the analysis? Would you do it in a different way?</h1>\n",
    "\n",
    "<h1>Is a low p-value good enough for this scenario?</h1>\n"
   ]
  },
  {
   "cell_type": "code",
   "execution_count": null,
   "metadata": {},
   "outputs": [],
   "source": []
  }
 ],
 "metadata": {
  "kernelspec": {
   "display_name": "Python 3",
   "language": "python",
   "name": "python3"
  },
  "language_info": {
   "codemirror_mode": {
    "name": "ipython",
    "version": 3
   },
   "file_extension": ".py",
   "mimetype": "text/x-python",
   "name": "python",
   "nbconvert_exporter": "python",
   "pygments_lexer": "ipython3",
   "version": "3.8.3"
  }
 },
 "nbformat": 4,
 "nbformat_minor": 1
}
